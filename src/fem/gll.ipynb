{
 "cells": [
  {
   "cell_type": "code",
   "execution_count": 1,
   "id": "b15d10fd",
   "metadata": {},
   "outputs": [],
   "source": [
    "import numpy as np\n",
    "import matplotlib.pyplot as plt\n",
    "from scipy.linalg import norm"
   ]
  },
  {
   "cell_type": "code",
   "execution_count": 2,
   "id": "f31ae971",
   "metadata": {},
   "outputs": [],
   "source": [
    "from numpy.polynomial.legendre import legroots, legder, legval, Legendre\n"
   ]
  },
  {
   "cell_type": "code",
   "execution_count": 3,
   "id": "528c92d3",
   "metadata": {},
   "outputs": [],
   "source": [
    "\n",
    "def get_gll(N):\n",
    "\n",
    "    GLL_points = np.array([-1] + [0]*(N-1) + [1], np.float64)\n",
    "\n",
    "    GLL_points[1:-1] += legroots(legder([0]*N+[1]))\n",
    "\n",
    "    GLL_weights = 2/(N*(N+1)*legval(GLL_points, [0]*N+[1])**2)\n",
    "\n",
    "    return GLL_points, GLL_weights\n"
   ]
  },
  {
   "cell_type": "code",
   "execution_count": 6,
   "id": "905bb31a",
   "metadata": {},
   "outputs": [
    {
     "name": "stdout",
     "output_type": "stream",
     "text": [
      "(array([-1.,  1.]), array([1., 1.]))\n",
      "(array([-1.,  0.,  1.]), array([0.33333333, 1.33333333, 0.33333333]))\n",
      "(array([-1.       , -0.4472136,  0.4472136,  1.       ]), array([0.16666667, 0.83333333, 0.83333333, 0.16666667]))\n",
      "(array([-1.00000000e+00, -6.54653671e-01,  5.70290343e-17,  6.54653671e-01,\n",
      "        1.00000000e+00]), array([0.1       , 0.54444444, 0.71111111, 0.54444444, 0.1       ]))\n"
     ]
    }
   ],
   "source": [
    "for i in range(1, 5):\n",
    "    print(get_gll(i))"
   ]
  },
  {
   "cell_type": "code",
   "execution_count": null,
   "id": "93e0cefa",
   "metadata": {},
   "outputs": [],
   "source": []
  }
 ],
 "metadata": {
  "kernelspec": {
   "display_name": "Python 3",
   "language": "python",
   "name": "python3"
  },
  "language_info": {
   "codemirror_mode": {
    "name": "ipython",
    "version": 3
   },
   "file_extension": ".py",
   "mimetype": "text/x-python",
   "name": "python",
   "nbconvert_exporter": "python",
   "pygments_lexer": "ipython3",
   "version": "3.12.3"
  }
 },
 "nbformat": 4,
 "nbformat_minor": 5
}
